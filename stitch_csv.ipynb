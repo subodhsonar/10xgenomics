{
 "cells": [
  {
   "cell_type": "code",
   "execution_count": 6,
   "id": "f8225621-faf8-4436-a316-eea5ddd823ab",
   "metadata": {},
   "outputs": [],
   "source": [
    "import numpy as np\n",
    "import pandas as pd\n",
    "import sys\n",
    "import os\n",
    "import matplotlib.pyplot as plt\n",
    "%matplotlib inline"
   ]
  },
  {
   "cell_type": "code",
   "execution_count": 7,
   "id": "c43c9245-d78d-4fb0-b212-e6221541c8cd",
   "metadata": {},
   "outputs": [],
   "source": [
    "def stitch_ws_csv(source_path: str, dest_path: str):\n",
    "    '''\n",
    "    source_path (str): full path of the source folder where all subfolder of each run are located\n",
    "    \n",
    "    dest_path (str) : full path of the destination folder where stitched csv files should be saved\n",
    "    '''\n",
    "    \n",
    "    # assign list of items in source diretory to a variable\n",
    "    source_dir_list = os.listdir(source_path)\n",
    "    source_len = len(source_dir_list)\n",
    "\n",
    "    # loop over all items in the source directory\n",
    "    for index, item in enumerate(source_dir_list):\n",
    "        \n",
    "        try:\n",
    "            # get full path of the source\n",
    "            source_folder_path = os.path.join(source_path, item)\n",
    "            \n",
    "            # get full path of the destination\n",
    "            destination_file_path = os.path.join(dest_path, item +  '.csv')\n",
    "\n",
    "            # create a list to store imported dataframe\n",
    "            df_list_per_run = []\n",
    "\n",
    "            # loop over all files in folder of each run\n",
    "            for filename in os.listdir(source_folder_path):\n",
    "\n",
    "                # check if the file is a log file\n",
    "                if 'GBW_Log' in filename:\n",
    "\n",
    "                    # get the full path of each file\n",
    "                    file_full_path = os.path.join(source_folder_path, filename)\n",
    "\n",
    "                    # append exported dataframe our list\n",
    "                    df_list_per_run += [pd.read_csv(file_full_path)]\n",
    "\n",
    "            # join all dataframes for each run\n",
    "            df_run = pd.concat(df_list_per_run, ignore_index = True)\n",
    "\n",
    "            # sort rows based on Date and time column in ascending order\n",
    "            sorted_df_run = df_run.sort_values(['Date', 'Time'], ascending = [True, True])\n",
    "            \n",
    "            # create a csv file for each run\n",
    "            sorted_df_run.to_csv(destination_file_path)\n",
    "            \n",
    "            # print file name we exported\n",
    "            print('Exported ' + destination_file_path)\n",
    "            \n",
    "        except:\n",
    "            # print error message if we failed to export\n",
    "            print('Failed to export ' + destination_file_path)\n",
    "        \n",
    "        # show progress\n",
    "        plot_progress_bar(index + 1, source_len, status = 'stitching csv')\n",
    "            \n",
    "            \n",
    "def plot_progress_bar(count, total, status = ''):\n",
    "    bar_len = 60\n",
    "    filled_len = int(round(bar_len * count / float(total)))\n",
    "\n",
    "    percents = round(100.0 * count / float(total), 1)\n",
    "    bar = '=' * filled_len + '-' * (bar_len - filled_len)\n",
    "\n",
    "    sys.stdout.write('[%s] %s%s ...%s\\r' % (bar, percents, '%', status))\n",
    "    sys.stdout.flush()"
   ]
  },
  {
   "cell_type": "code",
   "execution_count": 10,
   "id": "472633c6-f7c2-4907-b610-beb211ed4e29",
   "metadata": {},
   "outputs": [
    {
     "name": "stdout",
     "output_type": "stream",
     "text": [
      "Failed to export /Users/subodh.sonar/Downloads/stitched/.DS_Store.csv\n",
      "Exported /Users/subodh.sonar/Downloads/stitched/2022-03-16_08-22-04.csv.stitching csv\n",
      "Exported /Users/subodh.sonar/Downloads/stitched/2022-03-17_07-32-15.csv.stitching csv\n",
      "[============================================================] 100.0% ...stitching csv\r"
     ]
    }
   ],
   "source": [
    "# replace with your source and destinaton folders before running\n",
    "stitch_ws_csv(\n",
    "    '/Users/subodh.sonar/Downloads/wash_station_runs',\n",
    "    '/Users/subodh.sonar/Downloads/stitched'\n",
    ")"
   ]
  },
  {
   "cell_type": "code",
   "execution_count": null,
   "id": "e1b2bb6f-2c8c-4052-bc56-9b72139030d1",
   "metadata": {},
   "outputs": [],
   "source": []
  }
 ],
 "metadata": {
  "kernelspec": {
   "display_name": "Python 3",
   "language": "python",
   "name": "python3"
  },
  "language_info": {
   "codemirror_mode": {
    "name": "ipython",
    "version": 3
   },
   "file_extension": ".py",
   "mimetype": "text/x-python",
   "name": "python",
   "nbconvert_exporter": "python",
   "pygments_lexer": "ipython3",
   "version": "3.8.8"
  }
 },
 "nbformat": 4,
 "nbformat_minor": 5
}
